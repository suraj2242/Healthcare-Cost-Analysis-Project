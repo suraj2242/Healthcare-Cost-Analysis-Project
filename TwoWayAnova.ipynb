{
 "cells": [
  {
   "cell_type": "markdown",
   "metadata": {},
   "source": [
    "## **The Dataset:** Medical Cost Dataset \n",
    "\n",
    "### **Potential Factors:** Age, Smoker(smoker/non-smoker)\n",
    "\n",
    "### **Response Variable:** Charges\n",
    "\n",
    "### **Hypothesises**\n",
    "##### HO1: Age is not associated with differences in medical charges. \n",
    "##### HA1: Age is associated with differences in medical charges.\n",
    "\n",
    "##### HO2: Smoking status (smoker vs. non-smoker) is not associated with differences in medical charges. \n",
    "##### HA2: Smoking status is associated with differences in medical charges.\n",
    "\n",
    "##### HO3: There is no interaction effect between age and smoking status on medical charges. \n",
    "#### HA3: There is an interaction effect between age and smoking status on medical charges (meaning the impact of one factor on charges depends on the level of the other factor).\n",
    "\n",
    "### 1. Import necessary libraries"
   ]
  },
  {
   "cell_type": "code",
   "execution_count": 155,
   "metadata": {},
   "outputs": [],
   "source": [
    "#importing the libraries\n",
    "import pandas as pd\n",
    "import statsmodels.api as sm\n",
    "from statsmodels.formula.api import ols\n",
    "import matplotlib.pyplot as plt"
   ]
  },
  {
   "cell_type": "markdown",
   "metadata": {},
   "source": [
    "### 2. Load the data"
   ]
  },
  {
   "cell_type": "code",
   "execution_count": 156,
   "metadata": {},
   "outputs": [],
   "source": [
    "df = pd.read_csv('medical_cost.csv')"
   ]
  },
  {
   "cell_type": "markdown",
   "metadata": {},
   "source": [
    "### 3. Data Preprocessing\n",
    "1. Filtering the concerned columns\n",
    "2. Handling missing values\n"
   ]
  },
  {
   "cell_type": "code",
   "execution_count": 157,
   "metadata": {},
   "outputs": [],
   "source": [
    "# filter the data\n",
    "df = df[['age', 'smoker', 'charges']]\n",
    "# Handle missing values (if any)\n",
    "df = df.dropna()"
   ]
  },
  {
   "cell_type": "markdown",
   "metadata": {},
   "source": [
    "### 4. Data Exploration"
   ]
  },
  {
   "cell_type": "code",
   "execution_count": 158,
   "metadata": {},
   "outputs": [
    {
     "name": "stdout",
     "output_type": "stream",
     "text": [
      "   age smoker      charges\n",
      "0   19    yes  16884.92400\n",
      "1   18     no   1725.55230\n",
      "2   28     no   4449.46200\n",
      "3   33     no  21984.47061\n",
      "4   32     no   3866.85520\n"
     ]
    }
   ],
   "source": [
    "print(df.head())"
   ]
  },
  {
   "cell_type": "markdown",
   "metadata": {},
   "source": [
    "### 5. Performing Stratified Sampling"
   ]
  },
  {
   "cell_type": "code",
   "execution_count": null,
   "metadata": {},
   "outputs": [],
   "source": [
    "# Perform stratified sampling\n",
    "df = df.groupby('smoker', group_keys=False).apply(lambda x: x.sample(min(len(x), 100)))"
   ]
  },
  {
   "cell_type": "code",
   "execution_count": 160,
   "metadata": {},
   "outputs": [
    {
     "name": "stdout",
     "output_type": "stream",
     "text": [
      "<class 'pandas.core.frame.DataFrame'>\n",
      "Index: 200 entries, 367 to 296\n",
      "Data columns (total 3 columns):\n",
      " #   Column   Non-Null Count  Dtype  \n",
      "---  ------   --------------  -----  \n",
      " 0   age      200 non-null    int64  \n",
      " 1   smoker   200 non-null    object \n",
      " 2   charges  200 non-null    float64\n",
      "dtypes: float64(1), int64(1), object(1)\n",
      "memory usage: 6.2+ KB\n",
      "None\n"
     ]
    }
   ],
   "source": [
    "print(df.info())"
   ]
  },
  {
   "cell_type": "markdown",
   "metadata": {},
   "source": [
    "### 6. Fitting the model and running Anova"
   ]
  },
  {
   "cell_type": "code",
   "execution_count": null,
   "metadata": {},
   "outputs": [],
   "source": [
    "# Fit the model\n",
    "model = ols('charges ~ C(age) * C(smoker)', data=df).fit()\n",
    "\n",
    "# Perform the two-way ANOVA\n",
    "anova_table = sm.stats.anova_lm(model, typ=2)"
   ]
  },
  {
   "cell_type": "code",
   "execution_count": 162,
   "metadata": {},
   "outputs": [
    {
     "name": "stdout",
     "output_type": "stream",
     "text": [
      "                        sum_sq     df           F        PR(>F)\n",
      "C(age)            6.530507e+09   46.0    1.946522  3.690067e-03\n",
      "C(smoker)         1.980275e+10    1.0  271.516245  4.717964e-32\n",
      "C(age):C(smoker)  3.740502e+09   46.0    1.114916  3.198056e-01\n",
      "Residual          8.387405e+09  115.0         NaN           NaN\n"
     ]
    }
   ],
   "source": [
    "print(anova_table)"
   ]
  }
 ],
 "metadata": {
  "kernelspec": {
   "display_name": "Python 3",
   "language": "python",
   "name": "python3"
  },
  "language_info": {
   "codemirror_mode": {
    "name": "ipython",
    "version": 3
   },
   "file_extension": ".py",
   "mimetype": "text/x-python",
   "name": "python",
   "nbconvert_exporter": "python",
   "pygments_lexer": "ipython3",
   "version": "3.11.9"
  }
 },
 "nbformat": 4,
 "nbformat_minor": 2
}
